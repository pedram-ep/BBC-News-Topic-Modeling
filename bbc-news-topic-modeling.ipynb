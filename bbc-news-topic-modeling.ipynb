{
  "cells": [
    {
      "cell_type": "markdown",
      "metadata": {},
      "source": [
        "# Importing the packages"
      ]
    },
    {
      "cell_type": "code",
      "execution_count": null,
      "metadata": {
        "id": "5UL0BuOBSOIO"
      },
      "outputs": [],
      "source": [
        "# import numpy as np\n",
        "import pandas as pd\n",
        "import math\n",
        "import string\n",
        "\n",
        "# import pickle\n",
        "from collections import Counter\n",
        "\n",
        "import matplotlib.pyplot as plt\n",
        "import matplotlib.cm as cm\n",
        "plt.style.use('ggplot')\n",
        "import seaborn as sns\n",
        "from tqdm import tqdm\n",
        "tqdm.pandas()\n",
        "\n",
        "import spacy\n",
        "from spacy.lang.en.stop_words import STOP_WORDS\n",
        "# import en_core_web_sm\n",
        "\n",
        "from sklearn.feature_extraction.text import TfidfVectorizer\n",
        "from gensim.corpora.dictionary import Dictionary\n",
        "\n",
        "from sklearn.decomposition import PCA\n",
        "from sklearn.manifold import TSNE\n",
        "\n",
        "from sklearn.cluster import KMeans\n",
        "from sklearn import metrics\n",
        "from scipy.spatial.distance import cdist\n",
        "from yellowbrick.cluster import KElbowVisualizer\n",
        "\n",
        "from gensim.models import LdaModel\n",
        "from gensim.models import Nmf\n",
        "from gensim.models.coherencemodel import CoherenceModel\n",
        "\n",
        "from wordcloud import WordCloud\n",
        "\n",
        "from sklearn.model_selection import ParameterGrid\n",
        "\n",
        "import re\n",
        "from collections import Counter\n",
        "\n",
        "# import dash\n",
        "# from dash import dcc, html, Input, Output\n",
        "import pandas as pd\n",
        "import plotly.express as px\n",
        "import plotly.graph_objects as go"
      ]
    },
    {
      "cell_type": "markdown",
      "metadata": {
        "id": "2v4FIGJ0SOIP"
      },
      "source": [
        "# Loading the dataset"
      ]
    },
    {
      "cell_type": "code",
      "execution_count": 3,
      "metadata": {
        "colab": {
          "base_uri": "https://localhost:8080/",
          "height": 224
        },
        "id": "jYCWwe_9SOIQ",
        "outputId": "0e8b5913-072b-4d2d-e904-9494b028c40b"
      },
      "outputs": [
        {
          "name": "stdout",
          "output_type": "stream",
          "text": [
            "(2225, 4)\n"
          ]
        },
        {
          "data": {
            "text/html": [
              "<div>\n",
              "<style scoped>\n",
              "    .dataframe tbody tr th:only-of-type {\n",
              "        vertical-align: middle;\n",
              "    }\n",
              "\n",
              "    .dataframe tbody tr th {\n",
              "        vertical-align: top;\n",
              "    }\n",
              "\n",
              "    .dataframe thead th {\n",
              "        text-align: right;\n",
              "    }\n",
              "</style>\n",
              "<table border=\"1\" class=\"dataframe\">\n",
              "  <thead>\n",
              "    <tr style=\"text-align: right;\">\n",
              "      <th></th>\n",
              "      <th>category</th>\n",
              "      <th>filename</th>\n",
              "      <th>title</th>\n",
              "      <th>content</th>\n",
              "    </tr>\n",
              "  </thead>\n",
              "  <tbody>\n",
              "    <tr>\n",
              "      <th>0</th>\n",
              "      <td>business</td>\n",
              "      <td>001.txt</td>\n",
              "      <td>Ad sales boost Time Warner profit</td>\n",
              "      <td>Quarterly profits at US media giant TimeWarne...</td>\n",
              "    </tr>\n",
              "    <tr>\n",
              "      <th>1</th>\n",
              "      <td>business</td>\n",
              "      <td>002.txt</td>\n",
              "      <td>Dollar gains on Greenspan speech</td>\n",
              "      <td>The dollar has hit its highest level against ...</td>\n",
              "    </tr>\n",
              "    <tr>\n",
              "      <th>2</th>\n",
              "      <td>business</td>\n",
              "      <td>003.txt</td>\n",
              "      <td>Yukos unit buyer faces loan claim</td>\n",
              "      <td>The owners of embattled Russian oil giant Yuk...</td>\n",
              "    </tr>\n",
              "    <tr>\n",
              "      <th>3</th>\n",
              "      <td>business</td>\n",
              "      <td>004.txt</td>\n",
              "      <td>High fuel prices hit BA's profits</td>\n",
              "      <td>British Airways has blamed high fuel prices f...</td>\n",
              "    </tr>\n",
              "    <tr>\n",
              "      <th>4</th>\n",
              "      <td>business</td>\n",
              "      <td>005.txt</td>\n",
              "      <td>Pernod takeover talk lifts Domecq</td>\n",
              "      <td>Shares in UK drinks and food firm Allied Dome...</td>\n",
              "    </tr>\n",
              "  </tbody>\n",
              "</table>\n",
              "</div>"
            ],
            "text/plain": [
              "   category filename                              title  \\\n",
              "0  business  001.txt  Ad sales boost Time Warner profit   \n",
              "1  business  002.txt   Dollar gains on Greenspan speech   \n",
              "2  business  003.txt  Yukos unit buyer faces loan claim   \n",
              "3  business  004.txt  High fuel prices hit BA's profits   \n",
              "4  business  005.txt  Pernod takeover talk lifts Domecq   \n",
              "\n",
              "                                             content  \n",
              "0   Quarterly profits at US media giant TimeWarne...  \n",
              "1   The dollar has hit its highest level against ...  \n",
              "2   The owners of embattled Russian oil giant Yuk...  \n",
              "3   British Airways has blamed high fuel prices f...  \n",
              "4   Shares in UK drinks and food firm Allied Dome...  "
            ]
          },
          "execution_count": 3,
          "metadata": {},
          "output_type": "execute_result"
        }
      ],
      "source": [
        "df = pd.read_csv('bbc-news-data.csv', sep='\\t')\n",
        "print(df.shape)\n",
        "df.head(5)"
      ]
    },
    {
      "cell_type": "markdown",
      "metadata": {
        "id": "Kff9BmJvSOIR"
      },
      "source": [
        "# Preprocessing"
      ]
    },
    {
      "cell_type": "markdown",
      "metadata": {},
      "source": [
        "At first, the text of each article is tokenized, and the preprocessing methods below is done to the text. \n",
        "1. Tokenize\n",
        "2. Lowercase\n",
        "3. Remove punctuations\n",
        "4. Remove numbers\n",
        "5. Remove stop words\n",
        "6. Lemmatize\n",
        "7. Remove pronouns\n",
        "8. Remove short words\n",
        "\n",
        "In the end, preprocessed text is stores in a new column of dataframe named 'preprocessed_content'."
      ]
    },
    {
      "cell_type": "code",
      "execution_count": 4,
      "metadata": {
        "colab": {
          "base_uri": "https://localhost:8080/"
        },
        "id": "rr7e9OAtSOIU",
        "outputId": "3dca8037-c0fa-4116-f5f6-f4153b17b2ff"
      },
      "outputs": [
        {
          "name": "stdout",
          "output_type": "stream",
          "text": [
            "   category filename                              title  \\\n",
            "0  business  001.txt  Ad sales boost Time Warner profit   \n",
            "1  business  002.txt   Dollar gains on Greenspan speech   \n",
            "2  business  003.txt  Yukos unit buyer faces loan claim   \n",
            "3  business  004.txt  High fuel prices hit BA's profits   \n",
            "4  business  005.txt  Pernod takeover talk lifts Domecq   \n",
            "\n",
            "                                             content  \\\n",
            "0   Quarterly profits at US media giant TimeWarne...   \n",
            "1   The dollar has hit its highest level against ...   \n",
            "2   The owners of embattled Russian oil giant Yuk...   \n",
            "3   British Airways has blamed high fuel prices f...   \n",
            "4   Shares in UK drinks and food firm Allied Dome...   \n",
            "\n",
            "                                              tokens  \n",
            "0  [quarterly, profits, at, us, media, giant, tim...  \n",
            "1  [the, dollar, has, hit, its, highest, level, a...  \n",
            "2  [the, owners, of, embattled, russian, oil, gia...  \n",
            "3  [british, airways, has, blamed, high, fuel, pr...  \n",
            "4  [shares, in, uk, drinks, and, food, firm, alli...  \n"
          ]
        }
      ],
      "source": [
        "# tokenizing\n",
        "nlp = spacy.load(\"en_core_web_sm\")\n",
        "\n",
        "def tokenize_text(text):\n",
        "  doc = nlp(text)\n",
        "  tokens = [token.text for token in doc]\n",
        "  return tokens\n",
        "\n",
        "df['tokens'] = df['content'].apply(tokenize_text)\n",
        "\n",
        "# lowercasing\n",
        "df['tokens'] = df['tokens'].apply(lambda tokens: [token.lower() for token in tokens])\n",
        "\n",
        "# reomving punctuatuins\n",
        "df['tokens'] = df['tokens'].apply(lambda tokens: [token for token in tokens if token not in string.punctuation])\n",
        "\n",
        "# removing numbers\n",
        "df['tokens'] = df['tokens'].apply(lambda x: [token for token in x if token.isalpha()])                                                                                                 \n",
        "\n",
        "print(df.head())"
      ]
    },
    {
      "cell_type": "code",
      "execution_count": 5,
      "metadata": {
        "colab": {
          "base_uri": "https://localhost:8080/"
        },
        "id": "TN0UrLgWSOIW",
        "outputId": "bb1ce505-b402-4dc2-870d-9d9c0e97f9c8"
      },
      "outputs": [
        {
          "name": "stdout",
          "output_type": "stream",
          "text": [
            "['the', 'to', 'of', 'and', 'a', 'in', 'for', 'is', 'that', 'it', 'on', 'said', 'was', 'he', 'be', 'with', 'has', 'as', 'have', 'at', 'by', 'will', 'but', 'are', 'i', 'not', 'from', 'they', 'his', 'we', 'mr', 'this', 'an', 'would', 'had', 'which', 'been', 'their', 'more', 'year', 'its', 'up', 'were', 'also', 'who', 'people', 'new', 'one', 'there', 'us', 'about', 'can', 'after', 'out', 'or', 'than', 'all', 'could', 'if', 'you', 'm', 'over', 'do', 'last', 'first', 'when', 'time', 'two', 'world', 'government', 'other', 'so', 'now', 'some', 'what', 'into', 'she', 'uk', 'years', 'them', 'best', 'against', 'no', 'only', 'just', 'make', 'being', 'told', 'like', 'get', 'such', 'made', 'game', 'very', 'should', 'film', 'many', 'three', 'back', 'because']\n"
          ]
        }
      ],
      "source": [
        "all_tokens = [token for tokens in df['tokens'] for token in tokens]\n",
        "\n",
        "token_counts = Counter(all_tokens)\n",
        "\n",
        "most_common_tokens = [token for token, count in token_counts.most_common(100)]\n",
        "\n",
        "print(most_common_tokens)"
      ]
    },
    {
      "cell_type": "code",
      "execution_count": 6,
      "metadata": {
        "colab": {
          "base_uri": "https://localhost:8080/"
        },
        "collapsed": true,
        "id": "hAtM_jplEeEQ",
        "outputId": "aef2393f-277f-401d-9c0a-a2972e9108f4"
      },
      "outputs": [
        {
          "name": "stdout",
          "output_type": "stream",
          "text": [
            "   category filename                              title  \\\n",
            "0  business  001.txt  Ad sales boost Time Warner profit   \n",
            "1  business  002.txt   Dollar gains on Greenspan speech   \n",
            "2  business  003.txt  Yukos unit buyer faces loan claim   \n",
            "3  business  004.txt  High fuel prices hit BA's profits   \n",
            "4  business  005.txt  Pernod takeover talk lifts Domecq   \n",
            "\n",
            "                                             content  \\\n",
            "0   Quarterly profits at US media giant TimeWarne...   \n",
            "1   The dollar has hit its highest level against ...   \n",
            "2   The owners of embattled Russian oil giant Yuk...   \n",
            "3   British Airways has blamed high fuel prices f...   \n",
            "4   Shares in UK drinks and food firm Allied Dome...   \n",
            "\n",
            "                                   processed_content  \n",
            "0  quarterly profit medium giant timewarner jump ...  \n",
            "1  dollar hit high level euro month federal reser...  \n",
            "2  owner embattle russian oil giant yukos ask buy...  \n",
            "3  british airways blame high fuel price drop pro...  \n",
            "4  share drink food firm ally domecq rise specula...  \n"
          ]
        }
      ],
      "source": [
        "# removing stop words\n",
        "most_common_tokens.remove('film')\n",
        "most_common_tokens.remove('game')\n",
        "for word in most_common_tokens:\n",
        "    STOP_WORDS.add(word)\n",
        "\n",
        "df['tokens'] = df['tokens'].apply(lambda tokens: [token for token in tokens if token not in STOP_WORDS])\n",
        "\n",
        "# lemmatization\n",
        "def lemmatizer(tokens):\n",
        "    doc = nlp(\" \".join(tokens))\n",
        "    return [token.lemma_ for token in doc]\n",
        "\n",
        "df[\"tokens\"] = df[\"tokens\"].apply(lemmatizer)\n",
        "\n",
        "# removing pronouns\n",
        "common_pronouns = {\n",
        "    \"i\", \"you\", \"he\", \"she\", \"it\", \"we\", \"they\",\n",
        "    \"me\", \"him\", \"her\", \"us\", \"them\", \"myself\",\n",
        "    \"yourself\", \"himself\", \"herself\", \"ourselves\",\n",
        "    \"themselves\"\n",
        "}\n",
        "df[\"tokens\"] = df[\"tokens\"].apply(lambda tokens: [token for token in tokens if token.lower() not in common_pronouns])\n",
        "\n",
        "# removing shoert tokens\n",
        "df['tokens'] = df['tokens'].apply(lambda tokens: [token for token in tokens if len(token) >= 3])\n",
        "\n",
        "# converting tokens to string\n",
        "df[\"processed_content\"] = df[\"tokens\"].apply(lambda tokens: \" \".join(tokens))\n",
        "\n",
        "df = df.drop(['tokens'], axis=1)\n",
        "print(df.head())"
      ]
    },
    {
      "cell_type": "markdown",
      "metadata": {},
      "source": [
        "# Feature Extraction from texts"
      ]
    },
    {
      "cell_type": "markdown",
      "metadata": {},
      "source": [
        "Using TF-IDF vectorization, text features matrix is calculated.\n",
        "\n",
        "TF-IDF stands for Term Frequency-Inverse Document Frequency. It's a numerical statistic used in text mining and information retrieval to evaluate how important a word is in a document relative to a collection or corpus. The idea is to give higher weights to words that appear frequently in a document but rarely across all documents, making them more useful for distinguishing content.\n",
        "\n",
        "- Term Frequency (TF): Measures how frequently a term appears in a document.\n",
        "- Inverse Document Frequency (IDF): Downscales terms that appear in many documents, reducing the weight of common words."
      ]
    },
    {
      "cell_type": "code",
      "execution_count": 7,
      "metadata": {
        "colab": {
          "base_uri": "https://localhost:8080/",
          "height": 273
        },
        "id": "rh7xb7zsSOIY",
        "outputId": "6a56be29-af46-42c0-fbe7-a9f5f1a52bb0"
      },
      "outputs": [
        {
          "name": "stdout",
          "output_type": "stream",
          "text": [
            "(2225, 8192)\n"
          ]
        },
        {
          "data": {
            "text/html": [
              "<div>\n",
              "<style scoped>\n",
              "    .dataframe tbody tr th:only-of-type {\n",
              "        vertical-align: middle;\n",
              "    }\n",
              "\n",
              "    .dataframe tbody tr th {\n",
              "        vertical-align: top;\n",
              "    }\n",
              "\n",
              "    .dataframe thead th {\n",
              "        text-align: right;\n",
              "    }\n",
              "</style>\n",
              "<table border=\"1\" class=\"dataframe\">\n",
              "  <thead>\n",
              "    <tr style=\"text-align: right;\">\n",
              "      <th></th>\n",
              "      <th>aaa</th>\n",
              "      <th>aaas</th>\n",
              "      <th>aaron</th>\n",
              "      <th>abandon</th>\n",
              "      <th>abandonment</th>\n",
              "      <th>abba</th>\n",
              "      <th>abbas</th>\n",
              "      <th>abbasi</th>\n",
              "      <th>abbott</th>\n",
              "      <th>abc</th>\n",
              "      <th>...</th>\n",
              "      <th>accolade</th>\n",
              "      <th>accommodate</th>\n",
              "      <th>accommodation</th>\n",
              "      <th>accompany</th>\n",
              "      <th>accomplish</th>\n",
              "      <th>accord</th>\n",
              "      <th>according</th>\n",
              "      <th>account</th>\n",
              "      <th>accountability</th>\n",
              "      <th>accountable</th>\n",
              "    </tr>\n",
              "  </thead>\n",
              "  <tbody>\n",
              "    <tr>\n",
              "      <th>0</th>\n",
              "      <td>0.0</td>\n",
              "      <td>0.0</td>\n",
              "      <td>0.0</td>\n",
              "      <td>0.0</td>\n",
              "      <td>0.0</td>\n",
              "      <td>0.0</td>\n",
              "      <td>0.0</td>\n",
              "      <td>0.0</td>\n",
              "      <td>0.0</td>\n",
              "      <td>0.0</td>\n",
              "      <td>...</td>\n",
              "      <td>0.0</td>\n",
              "      <td>0.0</td>\n",
              "      <td>0.0</td>\n",
              "      <td>0.0</td>\n",
              "      <td>0.0</td>\n",
              "      <td>0.0</td>\n",
              "      <td>0.0</td>\n",
              "      <td>0.071005</td>\n",
              "      <td>0.0</td>\n",
              "      <td>0.0</td>\n",
              "    </tr>\n",
              "    <tr>\n",
              "      <th>1</th>\n",
              "      <td>0.0</td>\n",
              "      <td>0.0</td>\n",
              "      <td>0.0</td>\n",
              "      <td>0.0</td>\n",
              "      <td>0.0</td>\n",
              "      <td>0.0</td>\n",
              "      <td>0.0</td>\n",
              "      <td>0.0</td>\n",
              "      <td>0.0</td>\n",
              "      <td>0.0</td>\n",
              "      <td>...</td>\n",
              "      <td>0.0</td>\n",
              "      <td>0.0</td>\n",
              "      <td>0.0</td>\n",
              "      <td>0.0</td>\n",
              "      <td>0.0</td>\n",
              "      <td>0.0</td>\n",
              "      <td>0.0</td>\n",
              "      <td>0.142180</td>\n",
              "      <td>0.0</td>\n",
              "      <td>0.0</td>\n",
              "    </tr>\n",
              "    <tr>\n",
              "      <th>2</th>\n",
              "      <td>0.0</td>\n",
              "      <td>0.0</td>\n",
              "      <td>0.0</td>\n",
              "      <td>0.0</td>\n",
              "      <td>0.0</td>\n",
              "      <td>0.0</td>\n",
              "      <td>0.0</td>\n",
              "      <td>0.0</td>\n",
              "      <td>0.0</td>\n",
              "      <td>0.0</td>\n",
              "      <td>...</td>\n",
              "      <td>0.0</td>\n",
              "      <td>0.0</td>\n",
              "      <td>0.0</td>\n",
              "      <td>0.0</td>\n",
              "      <td>0.0</td>\n",
              "      <td>0.0</td>\n",
              "      <td>0.0</td>\n",
              "      <td>0.000000</td>\n",
              "      <td>0.0</td>\n",
              "      <td>0.0</td>\n",
              "    </tr>\n",
              "    <tr>\n",
              "      <th>3</th>\n",
              "      <td>0.0</td>\n",
              "      <td>0.0</td>\n",
              "      <td>0.0</td>\n",
              "      <td>0.0</td>\n",
              "      <td>0.0</td>\n",
              "      <td>0.0</td>\n",
              "      <td>0.0</td>\n",
              "      <td>0.0</td>\n",
              "      <td>0.0</td>\n",
              "      <td>0.0</td>\n",
              "      <td>...</td>\n",
              "      <td>0.0</td>\n",
              "      <td>0.0</td>\n",
              "      <td>0.0</td>\n",
              "      <td>0.0</td>\n",
              "      <td>0.0</td>\n",
              "      <td>0.0</td>\n",
              "      <td>0.0</td>\n",
              "      <td>0.000000</td>\n",
              "      <td>0.0</td>\n",
              "      <td>0.0</td>\n",
              "    </tr>\n",
              "    <tr>\n",
              "      <th>4</th>\n",
              "      <td>0.0</td>\n",
              "      <td>0.0</td>\n",
              "      <td>0.0</td>\n",
              "      <td>0.0</td>\n",
              "      <td>0.0</td>\n",
              "      <td>0.0</td>\n",
              "      <td>0.0</td>\n",
              "      <td>0.0</td>\n",
              "      <td>0.0</td>\n",
              "      <td>0.0</td>\n",
              "      <td>...</td>\n",
              "      <td>0.0</td>\n",
              "      <td>0.0</td>\n",
              "      <td>0.0</td>\n",
              "      <td>0.0</td>\n",
              "      <td>0.0</td>\n",
              "      <td>0.0</td>\n",
              "      <td>0.0</td>\n",
              "      <td>0.000000</td>\n",
              "      <td>0.0</td>\n",
              "      <td>0.0</td>\n",
              "    </tr>\n",
              "  </tbody>\n",
              "</table>\n",
              "<p>5 rows × 50 columns</p>\n",
              "</div>"
            ],
            "text/plain": [
              "   aaa  aaas  aaron  abandon  abandonment  abba  abbas  abbasi  abbott  abc  \\\n",
              "0  0.0   0.0    0.0      0.0          0.0   0.0    0.0     0.0     0.0  0.0   \n",
              "1  0.0   0.0    0.0      0.0          0.0   0.0    0.0     0.0     0.0  0.0   \n",
              "2  0.0   0.0    0.0      0.0          0.0   0.0    0.0     0.0     0.0  0.0   \n",
              "3  0.0   0.0    0.0      0.0          0.0   0.0    0.0     0.0     0.0  0.0   \n",
              "4  0.0   0.0    0.0      0.0          0.0   0.0    0.0     0.0     0.0  0.0   \n",
              "\n",
              "   ...  accolade  accommodate  accommodation  accompany  accomplish  accord  \\\n",
              "0  ...       0.0          0.0            0.0        0.0         0.0     0.0   \n",
              "1  ...       0.0          0.0            0.0        0.0         0.0     0.0   \n",
              "2  ...       0.0          0.0            0.0        0.0         0.0     0.0   \n",
              "3  ...       0.0          0.0            0.0        0.0         0.0     0.0   \n",
              "4  ...       0.0          0.0            0.0        0.0         0.0     0.0   \n",
              "\n",
              "   according   account  accountability  accountable  \n",
              "0        0.0  0.071005             0.0          0.0  \n",
              "1        0.0  0.142180             0.0          0.0  \n",
              "2        0.0  0.000000             0.0          0.0  \n",
              "3        0.0  0.000000             0.0          0.0  \n",
              "4        0.0  0.000000             0.0          0.0  \n",
              "\n",
              "[5 rows x 50 columns]"
            ]
          },
          "execution_count": 7,
          "metadata": {},
          "output_type": "execute_result"
        }
      ],
      "source": [
        "tf_idf_vectorizer = TfidfVectorizer(max_features=8192)\n",
        "\n",
        "feature_matrix = tf_idf_vectorizer.fit_transform(df['processed_content'])\n",
        "feature_names = tf_idf_vectorizer.get_feature_names_out()\n",
        "tf_idf_df = pd.DataFrame(feature_matrix.toarray(), columns=feature_names)\n",
        "\n",
        "print(tf_idf_df.shape)\n",
        "tf_idf_df.iloc[:5, :50]"
      ]
    },
    {
      "cell_type": "markdown",
      "metadata": {
        "id": "gBpiUYXASOIY"
      },
      "source": [
        "\n",
        "TF-IDF calculation consists of two parts:\n",
        "\n",
        "1. Term Frequency (TF):\n",
        "\n",
        "    This is calculated using the formula $TF = \\frac{\\text{Frequency of term in doc}}{\\text{Number of all terms in doc}}$. This part is essentially a simple count of how often a word appears in a document.\n",
        "\n",
        "2. Inverse Document Frequency (IDF):\n",
        "\n",
        "    This part evaluates the importance of a term across all documents. Words that appear in many documents are considered less important, while words that appear in fewer documents are considered more important. Therefore, we calculate this metric using the following formula:\n",
        "\n",
        "$$IDF = \\log(\\frac{\\text{Total number of documents}}{\\text{Number of documents containing the term}})$$\n",
        "\n",
        "Finally, by multiplying these two metrics, we create the TF-IDF metric, which weights each term based on its importance and its frequency in the document, allowing us to build more meaningful features.\n",
        "\n",
        "For example, if we have two documents containing the terms \"green, green, red\" and \"green, yellow, yellow,\" the frequency of the terms would be as follows:\n",
        "- Document 1: (green = 2), (red = 1)\n",
        "- Document 2: (green = 1), (yellow = 2)\n",
        "\n",
        "However, when using TF-IDF, we get:\n",
        "- Document 1: (green = 0.8), (red = 0.5)\n",
        "- Document 2: (green = 0.4), (yellow = 0.8)\n",
        "\n",
        "As you can see, even though the term \"red\" appears once in Document 1 and \"green\" appears once in Document 2, the TF-IDF value for \"green\" in Document 2 is lower. This is because the term \"green\" appears in both documents, making it less significant."
      ]
    },
    {
      "cell_type": "markdown",
      "metadata": {},
      "source": [
        "# Clustering"
      ]
    },
    {
      "cell_type": "markdown",
      "metadata": {},
      "source": [
        "### Using PCA for dimensionality reduction"
      ]
    },
    {
      "cell_type": "code",
      "execution_count": 8,
      "metadata": {
        "colab": {
          "base_uri": "https://localhost:8080/"
        },
        "id": "1bAb4IGlSOIZ",
        "outputId": "75116e15-fc88-433c-c765-83c89483d029"
      },
      "outputs": [
        {
          "ename": "MemoryError",
          "evalue": "Unable to allocate 139. MiB for an array with shape (2225, 8192) and data type float64",
          "output_type": "error",
          "traceback": [
            "\u001b[1;31m---------------------------------------------------------------------------\u001b[0m",
            "\u001b[1;31mMemoryError\u001b[0m                               Traceback (most recent call last)",
            "Cell \u001b[1;32mIn[8], line 3\u001b[0m\n\u001b[0;32m      1\u001b[0m pca \u001b[38;5;241m=\u001b[39m PCA(n_components\u001b[38;5;241m=\u001b[39m\u001b[38;5;241m0.95\u001b[39m)\n\u001b[1;32m----> 3\u001b[0m tf_idf_pca \u001b[38;5;241m=\u001b[39m \u001b[43mpca\u001b[49m\u001b[38;5;241;43m.\u001b[39;49m\u001b[43mfit_transform\u001b[49m\u001b[43m(\u001b[49m\u001b[43mtf_idf_df\u001b[49m\u001b[43m)\u001b[49m\n\u001b[0;32m      5\u001b[0m \u001b[38;5;28mprint\u001b[39m(tf_idf_pca\u001b[38;5;241m.\u001b[39mshape)\n\u001b[0;32m      6\u001b[0m tf_idf_pca\n",
            "File \u001b[1;32mc:\\Users\\pc\\AppData\\Local\\Programs\\Python\\Python311\\Lib\\site-packages\\sklearn\\utils\\_set_output.py:316\u001b[0m, in \u001b[0;36m_wrap_method_output.<locals>.wrapped\u001b[1;34m(self, X, *args, **kwargs)\u001b[0m\n\u001b[0;32m    314\u001b[0m \u001b[38;5;129m@wraps\u001b[39m(f)\n\u001b[0;32m    315\u001b[0m \u001b[38;5;28;01mdef\u001b[39;00m \u001b[38;5;21mwrapped\u001b[39m(\u001b[38;5;28mself\u001b[39m, X, \u001b[38;5;241m*\u001b[39margs, \u001b[38;5;241m*\u001b[39m\u001b[38;5;241m*\u001b[39mkwargs):\n\u001b[1;32m--> 316\u001b[0m     data_to_wrap \u001b[38;5;241m=\u001b[39m \u001b[43mf\u001b[49m\u001b[43m(\u001b[49m\u001b[38;5;28;43mself\u001b[39;49m\u001b[43m,\u001b[49m\u001b[43m \u001b[49m\u001b[43mX\u001b[49m\u001b[43m,\u001b[49m\u001b[43m \u001b[49m\u001b[38;5;241;43m*\u001b[39;49m\u001b[43margs\u001b[49m\u001b[43m,\u001b[49m\u001b[43m \u001b[49m\u001b[38;5;241;43m*\u001b[39;49m\u001b[38;5;241;43m*\u001b[39;49m\u001b[43mkwargs\u001b[49m\u001b[43m)\u001b[49m\n\u001b[0;32m    317\u001b[0m     \u001b[38;5;28;01mif\u001b[39;00m \u001b[38;5;28misinstance\u001b[39m(data_to_wrap, \u001b[38;5;28mtuple\u001b[39m):\n\u001b[0;32m    318\u001b[0m         \u001b[38;5;66;03m# only wrap the first output for cross decomposition\u001b[39;00m\n\u001b[0;32m    319\u001b[0m         return_tuple \u001b[38;5;241m=\u001b[39m (\n\u001b[0;32m    320\u001b[0m             _wrap_data_with_container(method, data_to_wrap[\u001b[38;5;241m0\u001b[39m], X, \u001b[38;5;28mself\u001b[39m),\n\u001b[0;32m    321\u001b[0m             \u001b[38;5;241m*\u001b[39mdata_to_wrap[\u001b[38;5;241m1\u001b[39m:],\n\u001b[0;32m    322\u001b[0m         )\n",
            "File \u001b[1;32mc:\\Users\\pc\\AppData\\Local\\Programs\\Python\\Python311\\Lib\\site-packages\\sklearn\\base.py:1473\u001b[0m, in \u001b[0;36m_fit_context.<locals>.decorator.<locals>.wrapper\u001b[1;34m(estimator, *args, **kwargs)\u001b[0m\n\u001b[0;32m   1466\u001b[0m     estimator\u001b[38;5;241m.\u001b[39m_validate_params()\n\u001b[0;32m   1468\u001b[0m \u001b[38;5;28;01mwith\u001b[39;00m config_context(\n\u001b[0;32m   1469\u001b[0m     skip_parameter_validation\u001b[38;5;241m=\u001b[39m(\n\u001b[0;32m   1470\u001b[0m         prefer_skip_nested_validation \u001b[38;5;129;01mor\u001b[39;00m global_skip_validation\n\u001b[0;32m   1471\u001b[0m     )\n\u001b[0;32m   1472\u001b[0m ):\n\u001b[1;32m-> 1473\u001b[0m     \u001b[38;5;28;01mreturn\u001b[39;00m \u001b[43mfit_method\u001b[49m\u001b[43m(\u001b[49m\u001b[43mestimator\u001b[49m\u001b[43m,\u001b[49m\u001b[43m \u001b[49m\u001b[38;5;241;43m*\u001b[39;49m\u001b[43margs\u001b[49m\u001b[43m,\u001b[49m\u001b[43m \u001b[49m\u001b[38;5;241;43m*\u001b[39;49m\u001b[38;5;241;43m*\u001b[39;49m\u001b[43mkwargs\u001b[49m\u001b[43m)\u001b[49m\n",
            "File \u001b[1;32mc:\\Users\\pc\\AppData\\Local\\Programs\\Python\\Python311\\Lib\\site-packages\\sklearn\\decomposition\\_pca.py:474\u001b[0m, in \u001b[0;36mPCA.fit_transform\u001b[1;34m(self, X, y)\u001b[0m\n\u001b[0;32m    451\u001b[0m \u001b[38;5;129m@_fit_context\u001b[39m(prefer_skip_nested_validation\u001b[38;5;241m=\u001b[39m\u001b[38;5;28;01mTrue\u001b[39;00m)\n\u001b[0;32m    452\u001b[0m \u001b[38;5;28;01mdef\u001b[39;00m \u001b[38;5;21mfit_transform\u001b[39m(\u001b[38;5;28mself\u001b[39m, X, y\u001b[38;5;241m=\u001b[39m\u001b[38;5;28;01mNone\u001b[39;00m):\n\u001b[0;32m    453\u001b[0m \u001b[38;5;250m    \u001b[39m\u001b[38;5;124;03m\"\"\"Fit the model with X and apply the dimensionality reduction on X.\u001b[39;00m\n\u001b[0;32m    454\u001b[0m \n\u001b[0;32m    455\u001b[0m \u001b[38;5;124;03m    Parameters\u001b[39;00m\n\u001b[1;32m   (...)\u001b[0m\n\u001b[0;32m    472\u001b[0m \u001b[38;5;124;03m    C-ordered array, use 'np.ascontiguousarray'.\u001b[39;00m\n\u001b[0;32m    473\u001b[0m \u001b[38;5;124;03m    \"\"\"\u001b[39;00m\n\u001b[1;32m--> 474\u001b[0m     U, S, _, X, x_is_centered, xp \u001b[38;5;241m=\u001b[39m \u001b[38;5;28;43mself\u001b[39;49m\u001b[38;5;241;43m.\u001b[39;49m\u001b[43m_fit\u001b[49m\u001b[43m(\u001b[49m\u001b[43mX\u001b[49m\u001b[43m)\u001b[49m\n\u001b[0;32m    475\u001b[0m     \u001b[38;5;28;01mif\u001b[39;00m U \u001b[38;5;129;01mis\u001b[39;00m \u001b[38;5;129;01mnot\u001b[39;00m \u001b[38;5;28;01mNone\u001b[39;00m:\n\u001b[0;32m    476\u001b[0m         U \u001b[38;5;241m=\u001b[39m U[:, : \u001b[38;5;28mself\u001b[39m\u001b[38;5;241m.\u001b[39mn_components_]\n",
            "File \u001b[1;32mc:\\Users\\pc\\AppData\\Local\\Programs\\Python\\Python311\\Lib\\site-packages\\sklearn\\decomposition\\_pca.py:547\u001b[0m, in \u001b[0;36mPCA._fit\u001b[1;34m(self, X)\u001b[0m\n\u001b[0;32m    545\u001b[0m \u001b[38;5;66;03m# Call different fits for either full or truncated SVD\u001b[39;00m\n\u001b[0;32m    546\u001b[0m \u001b[38;5;28;01mif\u001b[39;00m \u001b[38;5;28mself\u001b[39m\u001b[38;5;241m.\u001b[39m_fit_svd_solver \u001b[38;5;129;01min\u001b[39;00m (\u001b[38;5;124m\"\u001b[39m\u001b[38;5;124mfull\u001b[39m\u001b[38;5;124m\"\u001b[39m, \u001b[38;5;124m\"\u001b[39m\u001b[38;5;124mcovariance_eigh\u001b[39m\u001b[38;5;124m\"\u001b[39m):\n\u001b[1;32m--> 547\u001b[0m     \u001b[38;5;28;01mreturn\u001b[39;00m \u001b[38;5;28;43mself\u001b[39;49m\u001b[38;5;241;43m.\u001b[39;49m\u001b[43m_fit_full\u001b[49m\u001b[43m(\u001b[49m\u001b[43mX\u001b[49m\u001b[43m,\u001b[49m\u001b[43m \u001b[49m\u001b[43mn_components\u001b[49m\u001b[43m,\u001b[49m\u001b[43m \u001b[49m\u001b[43mxp\u001b[49m\u001b[43m,\u001b[49m\u001b[43m \u001b[49m\u001b[43mis_array_api_compliant\u001b[49m\u001b[43m)\u001b[49m\n\u001b[0;32m    548\u001b[0m \u001b[38;5;28;01melif\u001b[39;00m \u001b[38;5;28mself\u001b[39m\u001b[38;5;241m.\u001b[39m_fit_svd_solver \u001b[38;5;129;01min\u001b[39;00m [\u001b[38;5;124m\"\u001b[39m\u001b[38;5;124marpack\u001b[39m\u001b[38;5;124m\"\u001b[39m, \u001b[38;5;124m\"\u001b[39m\u001b[38;5;124mrandomized\u001b[39m\u001b[38;5;124m\"\u001b[39m]:\n\u001b[0;32m    549\u001b[0m     \u001b[38;5;28;01mreturn\u001b[39;00m \u001b[38;5;28mself\u001b[39m\u001b[38;5;241m.\u001b[39m_fit_truncated(X, n_components, xp)\n",
            "File \u001b[1;32mc:\\Users\\pc\\AppData\\Local\\Programs\\Python\\Python311\\Lib\\site-packages\\sklearn\\decomposition\\_pca.py:588\u001b[0m, in \u001b[0;36mPCA._fit_full\u001b[1;34m(self, X, n_components, xp, is_array_api_compliant)\u001b[0m\n\u001b[0;32m    578\u001b[0m x_is_centered \u001b[38;5;241m=\u001b[39m \u001b[38;5;129;01mnot\u001b[39;00m \u001b[38;5;28mself\u001b[39m\u001b[38;5;241m.\u001b[39mcopy\n\u001b[0;32m    580\u001b[0m \u001b[38;5;28;01mif\u001b[39;00m \u001b[38;5;129;01mnot\u001b[39;00m is_array_api_compliant:\n\u001b[0;32m    581\u001b[0m     \u001b[38;5;66;03m# Use scipy.linalg with NumPy/SciPy inputs for the sake of not\u001b[39;00m\n\u001b[0;32m    582\u001b[0m     \u001b[38;5;66;03m# introducing unanticipated behavior changes. In the long run we\u001b[39;00m\n\u001b[1;32m   (...)\u001b[0m\n\u001b[0;32m    586\u001b[0m     \u001b[38;5;66;03m# solver by default though (assuming both are built against the\u001b[39;00m\n\u001b[0;32m    587\u001b[0m     \u001b[38;5;66;03m# same BLAS).\u001b[39;00m\n\u001b[1;32m--> 588\u001b[0m     U, S, Vt \u001b[38;5;241m=\u001b[39m \u001b[43mlinalg\u001b[49m\u001b[38;5;241;43m.\u001b[39;49m\u001b[43msvd\u001b[49m\u001b[43m(\u001b[49m\u001b[43mX_centered\u001b[49m\u001b[43m,\u001b[49m\u001b[43m \u001b[49m\u001b[43mfull_matrices\u001b[49m\u001b[38;5;241;43m=\u001b[39;49m\u001b[38;5;28;43;01mFalse\u001b[39;49;00m\u001b[43m)\u001b[49m\n\u001b[0;32m    589\u001b[0m \u001b[38;5;28;01melse\u001b[39;00m:\n\u001b[0;32m    590\u001b[0m     U, S, Vt \u001b[38;5;241m=\u001b[39m xp\u001b[38;5;241m.\u001b[39mlinalg\u001b[38;5;241m.\u001b[39msvd(X_centered, full_matrices\u001b[38;5;241m=\u001b[39m\u001b[38;5;28;01mFalse\u001b[39;00m)\n",
            "File \u001b[1;32mc:\\Users\\pc\\AppData\\Local\\Programs\\Python\\Python311\\Lib\\site-packages\\scipy\\linalg\\_decomp_svd.py:141\u001b[0m, in \u001b[0;36msvd\u001b[1;34m(a, full_matrices, compute_uv, overwrite_a, check_finite, lapack_driver)\u001b[0m\n\u001b[0;32m    137\u001b[0m lwork \u001b[38;5;241m=\u001b[39m _compute_lwork(gesXd_lwork, a1\u001b[38;5;241m.\u001b[39mshape[\u001b[38;5;241m0\u001b[39m], a1\u001b[38;5;241m.\u001b[39mshape[\u001b[38;5;241m1\u001b[39m],\n\u001b[0;32m    138\u001b[0m                        compute_uv\u001b[38;5;241m=\u001b[39mcompute_uv, full_matrices\u001b[38;5;241m=\u001b[39mfull_matrices)\n\u001b[0;32m    140\u001b[0m \u001b[38;5;66;03m# perform decomposition\u001b[39;00m\n\u001b[1;32m--> 141\u001b[0m u, s, v, info \u001b[38;5;241m=\u001b[39m \u001b[43mgesXd\u001b[49m\u001b[43m(\u001b[49m\u001b[43ma1\u001b[49m\u001b[43m,\u001b[49m\u001b[43m \u001b[49m\u001b[43mcompute_uv\u001b[49m\u001b[38;5;241;43m=\u001b[39;49m\u001b[43mcompute_uv\u001b[49m\u001b[43m,\u001b[49m\u001b[43m \u001b[49m\u001b[43mlwork\u001b[49m\u001b[38;5;241;43m=\u001b[39;49m\u001b[43mlwork\u001b[49m\u001b[43m,\u001b[49m\n\u001b[0;32m    142\u001b[0m \u001b[43m                      \u001b[49m\u001b[43mfull_matrices\u001b[49m\u001b[38;5;241;43m=\u001b[39;49m\u001b[43mfull_matrices\u001b[49m\u001b[43m,\u001b[49m\u001b[43m \u001b[49m\u001b[43moverwrite_a\u001b[49m\u001b[38;5;241;43m=\u001b[39;49m\u001b[43moverwrite_a\u001b[49m\u001b[43m)\u001b[49m\n\u001b[0;32m    144\u001b[0m \u001b[38;5;28;01mif\u001b[39;00m info \u001b[38;5;241m>\u001b[39m \u001b[38;5;241m0\u001b[39m:\n\u001b[0;32m    145\u001b[0m     \u001b[38;5;28;01mraise\u001b[39;00m LinAlgError(\u001b[38;5;124m\"\u001b[39m\u001b[38;5;124mSVD did not converge\u001b[39m\u001b[38;5;124m\"\u001b[39m)\n",
            "\u001b[1;31mMemoryError\u001b[0m: Unable to allocate 139. MiB for an array with shape (2225, 8192) and data type float64"
          ]
        }
      ],
      "source": [
        "pca = PCA(n_components=0.95)\n",
        "\n",
        "tf_idf_pca = pca.fit_transform(tf_idf_df)\n",
        "\n",
        "print(tf_idf_pca.shape)\n",
        "tf_idf_pca"
      ]
    },
    {
      "cell_type": "markdown",
      "metadata": {},
      "source": [
        "Most clustering algorithms, including K-Means, do not perform well with high-dimensional data, and dimensionality reduction can help address this issue because, in high-dimensional spaces, the distances between data vectors become closer, reducing the effectiveness of distance metrics like Euclidean distance, and the increased dimensions introduce more noise, causing clustering models to overfit and lose their performance."
      ]
    },
    {
      "cell_type": "markdown",
      "metadata": {},
      "source": [
        "### KMeans for Clustering"
      ]
    },
    {
      "cell_type": "markdown",
      "metadata": {},
      "source": [
        "#### Finding the best number of clusters\n",
        "Using Distortion standard and visualizing the results using elbow plot"
      ]
    },
    {
      "cell_type": "code",
      "execution_count": null,
      "metadata": {
        "colab": {
          "base_uri": "https://localhost:8080/",
          "height": 545
        },
        "id": "esYim_0YSOIb",
        "outputId": "aa951498-7b23-4ae1-a0d8-54e7799a0e6d"
      },
      "outputs": [
        {
          "data": {
            "image/png": "[encoded data removed]",
            "text/plain": [
              "<Figure size 800x550 with 2 Axes>"
            ]
          },
          "metadata": {},
          "output_type": "display_data"
        },
        {
          "data": {
            "text/plain": [
              "<Axes: title={'center': 'Distortion Score Elbow for KMeans Clustering'}, xlabel='k', ylabel='distortion score'>"
            ]
          },
          "execution_count": 67,
          "metadata": {},
          "output_type": "execute_result"
        }
      ],
      "source": [
        "KElbowVisualizer(KMeans(), k=(2, 30)).fit(tf_idf_pca).show()"
      ]
    },
    {
      "cell_type": "markdown",
      "metadata": {},
      "source": [
        "This part shows the best number of clusters for this dataset is 9."
      ]
    },
    {
      "cell_type": "markdown",
      "metadata": {},
      "source": [
        "#### Applying KMeans\n",
        "Using KMeans function from sklearn library."
      ]
    },
    {
      "cell_type": "code",
      "execution_count": null,
      "metadata": {
        "colab": {
          "base_uri": "https://localhost:8080/"
        },
        "id": "gU1GVn6qSOIb",
        "outputId": "c99e648e-60cc-4fd3-c003-9bdc82876a09"
      },
      "outputs": [
        {
          "name": "stdout",
          "output_type": "stream",
          "text": [
            "      category filename                              title  \\\n",
            "0     business  001.txt  Ad sales boost Time Warner profit   \n",
            "1     business  002.txt   Dollar gains on Greenspan speech   \n",
            "2     business  003.txt  Yukos unit buyer faces loan claim   \n",
            "3     business  004.txt  High fuel prices hit BA's profits   \n",
            "4     business  005.txt  Pernod takeover talk lifts Domecq   \n",
            "...        ...      ...                                ...   \n",
            "2220      tech  397.txt   BT program to beat dialler scams   \n",
            "2221      tech  398.txt    Spam e-mails tempt net shoppers   \n",
            "2222      tech  399.txt            Be careful how you code   \n",
            "2223      tech  400.txt    US cyber security chief resigns   \n",
            "2224      tech  401.txt   Losing yourself in online gaming   \n",
            "\n",
            "                                                content  \\\n",
            "0      Quarterly profits at US media giant TimeWarne...   \n",
            "1      The dollar has hit its highest level against ...   \n",
            "2      The owners of embattled Russian oil giant Yuk...   \n",
            "3      British Airways has blamed high fuel prices f...   \n",
            "4      Shares in UK drinks and food firm Allied Dome...   \n",
            "...                                                 ...   \n",
            "2220   BT is introducing two initiatives to help bea...   \n",
            "2221   Computer users across the world continue to i...   \n",
            "2222   A new European directive could put software w...   \n",
            "2223   The man making sure US computer networks are ...   \n",
            "2224   Online role playing games are time-consuming,...   \n",
            "\n",
            "                                      processed_content  cluster  \n",
            "0     quarterly profit media giant timewarner jump m...        1  \n",
            "1     dollar hit high level euro month federal reser...        1  \n",
            "2     owner embattle russian oil giant yukos ask buy...        1  \n",
            "3     british airways blame high fuel price drop pro...        1  \n",
            "4     share drink food firm ally domecq rise specula...        1  \n",
            "...                                                 ...      ...  \n",
            "2220  introduce initiative help beat rogue dialler s...        0  \n",
            "2221  computer user continue ignore security warning...        0  \n",
            "2222  european directive software writer risk legal ...        3  \n",
            "2223  man make sure computer network safe secure res...        0  \n",
            "2224  online role play game consume enthral flight r...        4  \n",
            "\n",
            "[2225 rows x 6 columns]\n"
          ]
        }
      ],
      "source": [
        "optimal_k = 9\n",
        "kmeans = KMeans(n_clusters=optimal_k, random_state=42, n_init=10)\n",
        "\n",
        "df['cluster'] = kmeans.fit_predict(tf_idf_pca)\n",
        "print(df.head())"
      ]
    },
    {
      "cell_type": "markdown",
      "metadata": {},
      "source": [
        "### Visualizing Clusters"
      ]
    },
    {
      "cell_type": "markdown",
      "metadata": {},
      "source": [
        "First, t-SNE algorithm is used to reduce the dimensionality of features matrix to 2."
      ]
    },
    {
      "cell_type": "code",
      "execution_count": null,
      "metadata": {
        "colab": {
          "base_uri": "https://localhost:8080/"
        },
        "id": "uBOQgMCYSOIe",
        "outputId": "2b7d193a-c422-437a-a114-a5ad880fab16"
      },
      "outputs": [
        {
          "name": "stdout",
          "output_type": "stream",
          "text": [
            "(2225, 2)\n"
          ]
        },
        {
          "data": {
            "text/plain": [
              "array([[ 22.060556 ,  35.512478 ],\n",
              "       [ 42.238735 ,  28.816671 ],\n",
              "       [ 59.97369  ,  35.171627 ],\n",
              "       ...,\n",
              "       [  8.36088  ,  14.8484535],\n",
              "       [ -6.7533035,  47.90914  ],\n",
              "       [-13.73241  , -10.41366  ]], dtype=float32)"
            ]
          },
          "execution_count": 79,
          "metadata": {},
          "output_type": "execute_result"
        }
      ],
      "source": [
        "tsne = TSNE(n_components=2, random_state=42)\n",
        "tf_idf_tsne = tsne.fit_transform(tf_idf_df)\n",
        "\n",
        "print(tf_idf_tsne.shape)\n",
        "tf_idf_tsne"
      ]
    },
    {
      "cell_type": "markdown",
      "metadata": {},
      "source": [
        "Then using matplotlib library, the results of clustering is visualized in the 2d space."
      ]
    },
    {
      "cell_type": "code",
      "execution_count": null,
      "metadata": {
        "colab": {
          "base_uri": "https://localhost:8080/",
          "height": 830
        },
        "id": "phblcoWBSOIf",
        "outputId": "2c5d3ada-bf69-4203-dafd-759a699478e5"
      },
      "outputs": [
        {
          "ename": "NameError",
          "evalue": "name 'plt' is not defined",
          "output_type": "error",
          "traceback": [
            "\u001b[1;31m---------------------------------------------------------------------------\u001b[0m",
            "\u001b[1;31mNameError\u001b[0m                                 Traceback (most recent call last)",
            "Cell \u001b[1;32mIn[1], line 1\u001b[0m\n\u001b[1;32m----> 1\u001b[0m \u001b[43mplt\u001b[49m\u001b[38;5;241m.\u001b[39mfigure(figsize\u001b[38;5;241m=\u001b[39m(\u001b[38;5;241m10\u001b[39m, \u001b[38;5;241m10\u001b[39m))\n\u001b[0;32m      2\u001b[0m \u001b[38;5;28;01mfor\u001b[39;00m i \u001b[38;5;129;01min\u001b[39;00m \u001b[38;5;28mrange\u001b[39m(optimal_k):\n\u001b[0;32m      3\u001b[0m     plt\u001b[38;5;241m.\u001b[39mscatter(tf_idf_tsne[df[\u001b[38;5;124m'\u001b[39m\u001b[38;5;124mcluster\u001b[39m\u001b[38;5;124m'\u001b[39m] \u001b[38;5;241m==\u001b[39m i, \u001b[38;5;241m0\u001b[39m], tf_idf_tsne[df[\u001b[38;5;124m'\u001b[39m\u001b[38;5;124mcluster\u001b[39m\u001b[38;5;124m'\u001b[39m] \u001b[38;5;241m==\u001b[39m i, \u001b[38;5;241m1\u001b[39m], label\u001b[38;5;241m=\u001b[39m\u001b[38;5;124mf\u001b[39m\u001b[38;5;124m'\u001b[39m\u001b[38;5;124mCluster \u001b[39m\u001b[38;5;132;01m{\u001b[39;00mi\u001b[38;5;132;01m}\u001b[39;00m\u001b[38;5;124m'\u001b[39m)\n",
            "\u001b[1;31mNameError\u001b[0m: name 'plt' is not defined"
          ]
        }
      ],
      "source": [
        "plt.figure(figsize=(10, 10))\n",
        "for i in range(optimal_k):\n",
        "    plt.scatter(tf_idf_tsne[df['cluster'] == i, 0], tf_idf_tsne[df['cluster'] == i, 1], label=f'Cluster {i}')\n",
        "plt.legend()\n",
        "plt.show()"
      ]
    },
    {
      "cell_type": "markdown",
      "metadata": {
        "id": "ZBfUvwifSOIf"
      },
      "source": [
        "The t-SNE algorithm begins by calculating the similarity between each pair of data points in the high-dimensional space, aiming to determine the probability that one data point will select another as its neighbor. This probability is calculated using a normal distribution. Then, by computing the conditional probability of each pair of points relative to one another, it symmetrizes the similarity probabilities for all pairs of points.\n",
        "\n",
        "Once these similarities are determined, the algorithm attempts to map the data into a lower-dimensional space (2D or 3D) without causing significant harm to the data. In this step, using relative entropy (Kullback–Leibler (KL) divergence), which is a measure of how one probability distribution diverges from another, the algorithm tries to minimize this divergence.\n",
        "\n",
        "In this phase, the optimization process is performed iteratively using gradient descent. The goal is to minimize the distance between similar points and maximize the distance between dissimilar points in the new low-dimensional space. The algorithm iteratively adjusts the positions of the points using the gradients of the KL divergence with respect to their positions. Once these distances are optimized, the algorithm completes its task."
      ]
    },
    {
      "cell_type": "markdown",
      "metadata": {},
      "source": [
        "# Topic Modeling"
      ]
    },
    {
      "cell_type": "markdown",
      "metadata": {},
      "source": [
        "### Choosing an algorithm\n",
        "###### LDA Algorithm\n",
        "\n",
        "This algorithm makes two assumptions about documents and topics:  \n",
        "1. Each document is a mixture of topics.  \n",
        "2. Each topic is a collection of words with a specific probability distribution.\n",
        "\n",
        "- Each document has a Dirichlet Distribution of topics.  \n",
        "- Each topic has a Dirichlet Distribution of words.  \n",
        "- The algorithm seeks to find these distributions of topics and words using the documents.\n",
        "\n",
        "Initially, the algorithm randomly assigns topics to the words in the documents. Then, based on the topics present in each document and the collection of words in each topic, the algorithm reassigns topics to each word. This process is repeated multiple times until a satisfactory result is achieved. The output of this algorithm is the Dirichlet distribution of documents based on topics and the Dirichlet distribution of topics based on words. In other words, the output specifies the percentage distribution of topics for each document and the percentage distribution of words assigned to each topic.\n",
        "\n",
        "\n",
        "###### NMF Algorithm\n",
        "\n",
        "This algorithm constructs a matrix where the rows represent documents, the columns represent words, and each entry indicates how much a word is related to a document.\n",
        "\n",
        "The algorithm decomposes this matrix into two smaller matrices:  \n",
        "1. A Weight Matrix: This matrix provides the weight of each topic with respect to a document.  \n",
        "2. A Dictionary Matrix: This matrix provides the collection of words in each topic.\n",
        "\n",
        "By multiplying these two matrices, the original matrix is approximately reconstructed. That is, each document (a row in the original matrix) is the result of multiplying the row of topic weights (from the Weight Matrix) by the Dictionary Matrix. In other words, it is the product of the topic weights for the document and the topics themselves.\n",
        "\n",
        "The calculation process works as follows: Given the original matrix, the algorithm seeks to decompose it into the two matrices described above, such that their product has the least difference from the original matrix, providing a good approximation. Initially, the two matrices are created randomly, and then they are iteratively refined until a good approximation is achieved.\n",
        "\n",
        "\n",
        "We have chosen the Latent Dirichlet Allocation (LDA) algorithm."
      ]
    },
    {
      "cell_type": "markdown",
      "metadata": {},
      "source": [
        "### Making Dictionary and Corpus for each cluster\n",
        "Used gensim library's finctions and classes."
      ]
    },
    {
      "cell_type": "code",
      "execution_count": null,
      "metadata": {
        "id": "duxBGn2MSOIg"
      },
      "outputs": [],
      "source": [
        "cluster_groups = df.groupby('cluster')['processed_content'].apply(lambda x: [doc.split() for doc in x])\n",
        "cluster_dictionaries = {cluster: Dictionary(documents) for cluster, documents in cluster_groups.items()}\n",
        "\n",
        "cluster_dictionaries = {\n",
        "    cluster: Dictionary(documents) for cluster, documents in cluster_groups.items()\n",
        "}\n",
        "\n",
        "cluster_corpora = {\n",
        "    cluster: [cluster_dictionaries[cluster].doc2bow(doc) for doc in documents]\n",
        "    for cluster, documents in cluster_groups.items()\n",
        "}"
      ]
    },
    {
      "cell_type": "markdown",
      "metadata": {},
      "source": [
        "### Finding the optimal number of topics for each cluster\n",
        "With $C_V$, a coherence measurement, the best number of topics for each cluster is found."
      ]
    },
    {
      "cell_type": "code",
      "execution_count": null,
      "metadata": {
        "colab": {
          "base_uri": "https://localhost:8080/"
        },
        "id": "b8YPwWa7SOIh",
        "outputId": "0e163c48-7825-4b98-d6d2-ecf66769e2a4"
      },
      "outputs": [
        {
          "name": "stdout",
          "output_type": "stream",
          "text": [
            "Processing Cluster 0\n",
            "Cluster 0, Topics: 5, Coherence: 0.3300585973733834\n",
            "Cluster 0, Topics: 10, Coherence: 0.39357288095158294\n",
            "Cluster 0, Topics: 15, Coherence: 0.36446251204747165\n",
            "Cluster 0, Topics: 20, Coherence: 0.3602799511227359\n",
            "Cluster 0, Topics: 25, Coherence: 0.35175986446580554\n",
            "Best Model for Cluster 0: 0.39357288095158294\n",
            "Processing Cluster 1\n",
            "Cluster 1, Topics: 5, Coherence: 0.3884632969570675\n",
            "Cluster 1, Topics: 10, Coherence: 0.39450930509604687\n",
            "Cluster 1, Topics: 15, Coherence: 0.4400157921226909\n",
            "Cluster 1, Topics: 20, Coherence: 0.38726923011738107\n",
            "Cluster 1, Topics: 25, Coherence: 0.35448890755252305\n",
            "Best Model for Cluster 1: 0.4400157921226909\n",
            "Processing Cluster 2\n",
            "Cluster 2, Topics: 5, Coherence: 0.597039398632927\n",
            "Cluster 2, Topics: 10, Coherence: 0.4962487520987803\n",
            "Cluster 2, Topics: 15, Coherence: 0.478307334849902\n",
            "Cluster 2, Topics: 20, Coherence: 0.4466590490610323\n",
            "Cluster 2, Topics: 25, Coherence: 0.45668104479732863\n",
            "Best Model for Cluster 2: 0.597039398632927\n",
            "Processing Cluster 3\n",
            "Cluster 3, Topics: 5, Coherence: 0.27189548748607206\n",
            "Cluster 3, Topics: 10, Coherence: 0.2993414483069793\n",
            "Cluster 3, Topics: 15, Coherence: 0.35132570398277685\n",
            "Cluster 3, Topics: 20, Coherence: 0.36463209313376177\n",
            "Cluster 3, Topics: 25, Coherence: 0.3617120629544999\n",
            "Best Model for Cluster 3: 0.36463209313376177\n",
            "Processing Cluster 4\n",
            "Cluster 4, Topics: 5, Coherence: 0.35911343270885976\n",
            "Cluster 4, Topics: 10, Coherence: 0.36922773701334327\n",
            "Cluster 4, Topics: 15, Coherence: 0.32781343024066456\n",
            "Cluster 4, Topics: 20, Coherence: 0.37391902682527356\n",
            "Cluster 4, Topics: 25, Coherence: 0.3836624373783218\n",
            "Best Model for Cluster 4: 0.3836624373783218\n",
            "Processing Cluster 5\n",
            "Cluster 5, Topics: 5, Coherence: 0.3356248892109205\n",
            "Cluster 5, Topics: 10, Coherence: 0.36110418302630787\n",
            "Cluster 5, Topics: 15, Coherence: 0.35831020141824454\n",
            "Cluster 5, Topics: 20, Coherence: 0.4096341109429285\n",
            "Cluster 5, Topics: 25, Coherence: 0.39482953374097973\n",
            "Best Model for Cluster 5: 0.4096341109429285\n",
            "Processing Cluster 6\n",
            "Cluster 6, Topics: 5, Coherence: 0.35649275883431164\n",
            "Cluster 6, Topics: 10, Coherence: 0.3940520060682243\n",
            "Cluster 6, Topics: 15, Coherence: 0.36059735036546336\n",
            "Cluster 6, Topics: 20, Coherence: 0.3421114288333319\n",
            "Cluster 6, Topics: 25, Coherence: 0.35707386321618984\n",
            "Best Model for Cluster 6: 0.3940520060682243\n",
            "Processing Cluster 7\n",
            "Cluster 7, Topics: 5, Coherence: 0.36082475931021507\n",
            "Cluster 7, Topics: 10, Coherence: 0.3582465812996156\n",
            "Cluster 7, Topics: 15, Coherence: 0.35428662246027876\n",
            "Cluster 7, Topics: 20, Coherence: 0.33997900320576735\n",
            "Cluster 7, Topics: 25, Coherence: 0.36480312511568636\n",
            "Best Model for Cluster 7: 0.36480312511568636\n",
            "Processing Cluster 8\n",
            "Cluster 8, Topics: 5, Coherence: 0.3566913755710671\n",
            "Cluster 8, Topics: 10, Coherence: 0.34570150534288463\n",
            "Cluster 8, Topics: 15, Coherence: 0.38193672019069486\n",
            "Cluster 8, Topics: 20, Coherence: 0.41064686296975533\n",
            "Cluster 8, Topics: 25, Coherence: 0.42412971106719605\n",
            "Best Model for Cluster 8: 0.42412971106719605\n",
            "Best Coherence Scores for Each Cluster:\n",
            "Cluster 0: 0.39357288095158294\n",
            "Cluster 1: 0.4400157921226909\n",
            "Cluster 2: 0.597039398632927\n",
            "Cluster 3: 0.36463209313376177\n",
            "Cluster 4: 0.3836624373783218\n",
            "Cluster 5: 0.4096341109429285\n",
            "Cluster 6: 0.3940520060682243\n",
            "Cluster 7: 0.36480312511568636\n",
            "Cluster 8: 0.42412971106719605\n"
          ]
        }
      ],
      "source": [
        "topic_counts = [5, 10, 15, 20, 25]\n",
        "\n",
        "best_lda_models = {}\n",
        "best_coherence_scores = {}\n",
        "\n",
        "for cluster_num, documents in cluster_groups.items():\n",
        "    print(f\"Processing Cluster {cluster_num}\")\n",
        "\n",
        "    dictionary = cluster_dictionaries[cluster_num]\n",
        "    corpus = cluster_corpora[cluster_num]\n",
        "\n",
        "    best_model = None\n",
        "    highest_score = -1\n",
        "\n",
        "    for num_topics in topic_counts:\n",
        "        lda_model = LdaModel(\n",
        "            corpus=corpus,\n",
        "            id2word=dictionary,\n",
        "            num_topics=num_topics,\n",
        "            random_state=42,\n",
        "            passes=10\n",
        "        )\n",
        "\n",
        "        coherence_model = CoherenceModel(\n",
        "            model=lda_model,\n",
        "            texts=documents,\n",
        "            dictionary=dictionary,\n",
        "            coherence='c_v'\n",
        "        )\n",
        "        coherence_score = coherence_model.get_coherence()\n",
        "\n",
        "        print(f\"Cluster {cluster_num}, Topics: {num_topics}, Coherence: {coherence_score}\")\n",
        "\n",
        "        if coherence_score > highest_score:\n",
        "            best_model = lda_model\n",
        "            highest_score = coherence_score\n",
        "\n",
        "    best_lda_models[cluster_num] = best_model\n",
        "    best_coherence_scores[cluster_num] = highest_score\n",
        "    print(f\"Best Model for Cluster {cluster_num}: {highest_score}\")\n",
        "\n",
        "print(\"Best Coherence Scores for Each Cluster:\")\n",
        "for cluster_num, score in best_coherence_scores.items():\n",
        "    print(f\"Cluster {cluster_num}: {score}\")"
      ]
    },
    {
      "cell_type": "code",
      "execution_count": null,
      "metadata": {
        "id": "SLtTQCSvvH0c"
      },
      "outputs": [],
      "source": [
        "for cluster_num, documents in cluster_groups.items():\n",
        "    scores = []\n",
        "    for num_topics in topic_counts:\n",
        "        lda_model = LdaModel(\n",
        "            corpus=cluster_corpora[cluster_num],\n",
        "            id2word=cluster_dictionaries[cluster_num],\n",
        "            num_topics=num_topics,\n",
        "            random_state=42,\n",
        "            passes=10\n",
        "        )\n",
        "        coherence_model = CoherenceModel(\n",
        "            model=lda_model,\n",
        "            texts=documents,\n",
        "            dictionary=cluster_dictionaries[cluster_num],\n",
        "            coherence='c_v'\n",
        "        )\n",
        "        scores.append(coherence_model.get_coherence())\n",
        "\n",
        "    plt.plot(topic_counts, scores, marker='o', label=f'Cluster {cluster_num}')\n",
        "\n",
        "plt.xlabel('Number of Topics')\n",
        "plt.ylabel('Coherence Score')\n",
        "plt.title('Topic Coherence Scores for Each Cluster')\n",
        "plt.legend()\n",
        "plt.grid(True)\n",
        "plt.show()"
      ]
    },
    {
      "cell_type": "markdown",
      "metadata": {
        "id": "gujC8ieZSOIh"
      },
      "source": [
        "This metric is used to evaluate the quality of topics generated by models such as LDA. In this method, a set of keywords is first selected for each topic. Then, by converting these words into numerical vectors, we begin calculating similarity. In this step, using similarity measures such as cosine similarity, we measure the degree of similarity between the words in each topic. We then evaluate the quality of the topic based on the similarity of its words.\n",
        "\n",
        "Finally, by examining the correlation of similarity between the words in a topic, we take the average of these correlation scores to determine the overall quality of the model."
      ]
    },
    {
      "cell_type": "markdown",
      "metadata": {},
      "source": [
        "# Extraction keywords for each document"
      ]
    },
    {
      "cell_type": "markdown",
      "metadata": {},
      "source": [
        "For each data of dataframe, the 3 best topics which the model has predicted for it are extracted. Then the 2 most important keywords of each topic are extracted."
      ]
    },
    {
      "cell_type": "code",
      "execution_count": null,
      "metadata": {
        "id": "fdxrP-A9SOIi"
      },
      "outputs": [],
      "source": [
        "top_keywords_list = []\n",
        "\n",
        "for i, row in df.iterrows():\n",
        "    cluster_num = row[\"cluster\"]\n",
        "    tokens = row[\"processed_content\"].split()\n",
        "\n",
        "    dictionary = cluster_dictionaries[cluster_num]\n",
        "    doc_bow = dictionary.doc2bow(tokens)\n",
        "\n",
        "    doc_topics = best_lda_models[cluster_num].get_document_topics(doc_bow)\n",
        "\n",
        "    top_three_topics = sorted(doc_topics, key=lambda x: x[1], reverse=True)[:3]\n",
        "\n",
        "    keywords_for_doc = []\n",
        "\n",
        "    for topic_id, _ in top_three_topics:\n",
        "        top_terms = best_lda_models[cluster_num].show_topic(topic_id, topn=2)\n",
        "        keywords_for_doc.extend(term for term, _ in top_terms)\n",
        "\n",
        "    top_keywords_list.append(keywords_for_doc)\n",
        "\n",
        "df[\"top_keywords\"] = top_keywords_list"
      ]
    },
    {
      "cell_type": "markdown",
      "metadata": {},
      "source": [
        "# Word Clouds\n",
        "\n",
        "First, the number of repetitions of words of each cluster is found. (for the top ten keywords of each topic.) Then using the keywords and the number of repetitions of them, The word clouds are drawn."
      ]
    },
    {
      "cell_type": "code",
      "execution_count": null,
      "metadata": {
        "id": "3vz3ELfOSOIk"
      },
      "outputs": [],
      "source": [
        "TOP_KWORDS_PER_TOPIC = 10\n",
        "\n",
        "unique_clusters = df['cluster'].unique()\n",
        "num_clusters = len(unique_clusters)\n",
        "\n",
        "cols = math.ceil(math.sqrt(num_clusters))\n",
        "rows = math.ceil(num_clusters / cols)\n",
        "\n",
        "fig, axes = plt.subplots(rows, cols, figsize=(cols * 5, rows * 5))\n",
        "axes = axes.flatten()\n",
        "\n",
        "for idx, cluster_num in enumerate(unique_clusters):\n",
        "    lda_model = best_lda_models[cluster_num]\n",
        "    keywords = []\n",
        "\n",
        "    for topic_id in range(lda_model.num_topics):\n",
        "        top_terms = lda_model.show_topic(topic_id, topn=TOP_KWORDS_PER_TOPIC)\n",
        "        keywords.extend([term for term, _ in top_terms])\n",
        "\n",
        "    keyword_counts = Counter(keywords)\n",
        "\n",
        "    wordcloud = WordCloud(width=400, height=200, background_color='white').generate_from_frequencies(keyword_counts)\n",
        "\n",
        "    axes[idx].imshow(wordcloud, interpolation='bilinear')\n",
        "    axes[idx].set_title(f'Cluster {cluster_num}', fontsize=16)\n",
        "    axes[idx].axis('off')\n",
        "\n",
        "for j in range(idx + 1, len(axes)):\n",
        "    axes[j].axis('off')\n",
        "\n",
        "plt.tight_layout()\n",
        "plt.show()\n"
      ]
    }
  ],
  "metadata": {
    "colab": {
      "provenance": []
    },
    "kernelspec": {
      "display_name": "Python 3",
      "language": "python",
      "name": "python3"
    },
    "language_info": {
      "codemirror_mode": {
        "name": "ipython",
        "version": 3
      },
      "file_extension": ".py",
      "mimetype": "text/x-python",
      "name": "python",
      "nbconvert_exporter": "python",
      "pygments_lexer": "ipython3",
      "version": "3.11.2"
    }
  },
  "nbformat": 4,
  "nbformat_minor": 0
}
